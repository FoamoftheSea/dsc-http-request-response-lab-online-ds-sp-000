{
 "cells": [
  {
   "cell_type": "markdown",
   "metadata": {},
   "source": [
    "# HTTP Request/Response Cycle - Lab\n",
    "\n",
    "## Introduction \n",
    "\n",
    "In this lab, we'll make use of the `requests` module commands and properties seen in the previous lesson, to extract information for a web service called **\"Open Notify\"** to access NASA's space data. \n",
    "\n",
    "## Objectives\n",
    "\n",
    "You will be able to:\n",
    "\n",
    "* Explain the HTTP request/response cycle\n",
    "* List the status codes of responses and their meanings\n",
    "* Obtain and interpret status codes from responses\n",
    "* Make HTTP GET and POST requests in python using the `requests` library\n",
    "\n",
    "## Open Notify \n",
    "\n",
    "[Open Notify](http://open-notify.org/)  is an an open source project to provide a simple programming interface for some of NASA’s awesome data. This takes live raw data from NASA's systems and turn them into APIs related to space and spacecraft. We can access the following information from open notify. \n",
    "\n",
    "* Current Location of the International Space Station\n",
    "\n",
    "* Overhead Pass Predictions for the International Space Station\n",
    "\n",
    "* Number of People in Space\n",
    "    \n",
    "### API endpoints\n",
    "\n",
    "OpenNotify has several API endpoints. \n",
    ">An endpoint is a server route that is used to retrieve different data from the API. \n",
    "\n",
    "For example, the `/comments` endpoint on the Reddit API might retrieve information about comments, whereas the `/users` endpoint might retrieve data about users. To access them, you would add the endpoint to the base url of the API.\n",
    "\n",
    "For the OpenNotify API, we have following end points \n",
    "\n",
    "1. Current Location of the International Space Station `/iss-now.json`\n",
    "2. Overhead Pass Predictions for the International Space Station `/iss-pass.json`    \n",
    "3. Number of People in Space `/astros.json`\n",
    "\n",
    "The `.json` extension simply tells us that the data is being returned in a JSON format.\n",
    "\n",
    "In this lab, we'll be querying this API to retrieve live data about the International Space Station (ISS). Details on OpenNofity, endpoints, syntax, and the services it offers can be viewed [Here](http://open-notify.org/Open-Notify-API/)\n",
    "\n",
    "![](images/iss.jpg)\n",
    "\n",
    "### Current location of International Space Station\n",
    "\n",
    "The first endpoint we'll look at on OpenNotify is the ` iss-now.json` endpoint (current location of international space station). This endpoint gets the current latitude and longitude of the International Space Station.  Perform the following tasks \n",
    "* Make a get request to get the latest position of the international space station from the opennotify api's `iss-now` endpoint at http://api.open-notify.org/iss-now.json\n",
    "* Check the status code of the response\n",
    "* Interpret the returned code"
   ]
  },
  {
   "cell_type": "code",
   "execution_count": 2,
   "metadata": {},
   "outputs": [],
   "source": [
    "# Importing libraries\n",
    "import requests\n",
    "import json\n",
    "import pandas as pd"
   ]
  },
  {
   "cell_type": "code",
   "execution_count": 10,
   "metadata": {},
   "outputs": [
    {
     "name": "stdout",
     "output_type": "stream",
     "text": [
      "Status OK\n"
     ]
    }
   ],
   "source": [
    "# Getting response and checking status\n",
    "resp = requests.get(\"http://api.open-notify.org/iss-now.json\")\n",
    "if resp.status_code == requests.codes.ok:\n",
    "    print(\"Status OK\")\n",
    "else:\n",
    "    print(\"Didn't Work\")"
   ]
  },
  {
   "cell_type": "markdown",
   "metadata": {},
   "source": [
    "The response has come through ok."
   ]
  },
  {
   "cell_type": "markdown",
   "metadata": {},
   "source": [
    "* Print the contents of the response and identify its current location"
   ]
  },
  {
   "cell_type": "code",
   "execution_count": 11,
   "metadata": {},
   "outputs": [
    {
     "name": "stdout",
     "output_type": "stream",
     "text": [
      "{\"message\": \"success\", \"iss_position\": {\"latitude\": \"0.7487\", \"longitude\": \"-31.2364\"}, \"timestamp\": 1575676733}\n",
      "{'Server': 'nginx/1.10.3', 'Date': 'Fri, 06 Dec 2019 23:58:53 GMT', 'Content-Type': 'application/json', 'Content-Length': '112', 'Connection': 'keep-alive', 'access-control-allow-origin': '*'}\n"
     ]
    }
   ],
   "source": [
    "# Printing text and headers\n",
    "print(resp.text)\n",
    "print(dict(resp.headers))"
   ]
  },
  {
   "cell_type": "code",
   "execution_count": 12,
   "metadata": {},
   "outputs": [],
   "source": [
    "# Interpret your results using the APIa"
   ]
  },
  {
   "cell_type": "markdown",
   "metadata": {},
   "source": [
    "At the time of the response the ISS was at \"latitude\": \"0.7487\", \"longitude\": \"-31.2364\""
   ]
  },
  {
   "cell_type": "markdown",
   "metadata": {},
   "source": [
    "### Check the next pass of International space station for a given location\n",
    "\n",
    "Let's repeat the above for the second endpoint `iss-pass.json`. This end point is used to query the next pass of the space station on a given location. Let's just run as above and record your observations."
   ]
  },
  {
   "cell_type": "code",
   "execution_count": 15,
   "metadata": {},
   "outputs": [
    {
     "name": "stdout",
     "output_type": "stream",
     "text": [
      "Didn't Work\n"
     ]
    }
   ],
   "source": [
    "# Getting response and checking status\n",
    "resp2 = requests.get(\"http://api.open-notify.org/iss-pass.json\")\n",
    "if resp2.status_code == requests.codes.ok:\n",
    "    print(\"Status OK\")\n",
    "else:\n",
    "    print(\"Didn't Work\")"
   ]
  },
  {
   "cell_type": "code",
   "execution_count": 16,
   "metadata": {},
   "outputs": [],
   "source": [
    "# Your comments \n",
    "# SOMETHING IS WRONG!"
   ]
  },
  {
   "cell_type": "markdown",
   "metadata": {},
   "source": [
    "So clearly there is something wrong as we had a 400 response. This is how you should always test your responses for validity. \n",
    "\n",
    "if we look at the documentation for the OpenNotify API, we see that the ISS Pass endpoint requires two parameters.\n",
    "\n",
    "> The ISS Pass endpoint returns when the ISS will next pass over a given location on earth. In order to compute this, we need to pass the coordinates of the location to the API. We do this by passing two parameters -- latitude and longitude.\n",
    "\n",
    "We can do this by adding an optional keyword argument, params, to our request. In this case, there are two parameters we need to pass:\n",
    "\n",
    "* lat -- The latitude of the location we want.\n",
    "* lon -- The longitude of the location we want.\n",
    "\n",
    "Perform the following tasks :\n",
    "* Set parameters to reflect the lat and long of New York  (40.71, -74)\n",
    "* Send a get request to OpenNotify passing in the lat long parameters as k:v pairs in a dictionary\n",
    "* Check the status code and interpret\n",
    "* Print the header information and the returned content"
   ]
  },
  {
   "cell_type": "code",
   "execution_count": 41,
   "metadata": {},
   "outputs": [
    {
     "name": "stdout",
     "output_type": "stream",
     "text": [
      "Status OK\n"
     ]
    }
   ],
   "source": [
    "# Getting response and checking status\n",
    "resp = requests.get(\"http://api.open-notify.org/iss-pass.json\", \n",
    "                    params = {\"lat\":40.71, \"lon\":-74, \"n\":10})\n",
    "if resp.status_code == requests.codes.ok:\n",
    "    print(\"Status OK\")\n",
    "else:\n",
    "    print(\"Didn't Work\")"
   ]
  },
  {
   "cell_type": "code",
   "execution_count": 42,
   "metadata": {},
   "outputs": [
    {
     "name": "stdout",
     "output_type": "stream",
     "text": [
      "{\n",
      "  \"message\": \"success\", \n",
      "  \"request\": {\n",
      "    \"altitude\": 100, \n",
      "    \"datetime\": 1575679175, \n",
      "    \"latitude\": 40.71, \n",
      "    \"longitude\": -74.0, \n",
      "    \"passes\": 10\n",
      "  }, \n",
      "  \"response\": [\n",
      "    {\n",
      "      \"duration\": 567, \n",
      "      \"risetime\": 1575681337\n",
      "    }, \n",
      "    {\n",
      "      \"duration\": 602, \n",
      "      \"risetime\": 1575735670\n",
      "    }, \n",
      "    {\n",
      "      \"duration\": 641, \n",
      "      \"risetime\": 1575741445\n",
      "    }, \n",
      "    {\n",
      "      \"duration\": 573, \n",
      "      \"risetime\": 1575747324\n",
      "    }, \n",
      "    {\n",
      "      \"duration\": 571, \n",
      "      \"risetime\": 1575753192\n",
      "    }, \n",
      "    {\n",
      "      \"duration\": 642, \n",
      "      \"risetime\": 1575759004\n",
      "    }, \n",
      "    {\n",
      "      \"duration\": 616, \n",
      "      \"risetime\": 1575764814\n",
      "    }, \n",
      "    {\n",
      "      \"duration\": 545, \n",
      "      \"risetime\": 1575819202\n",
      "    }, \n",
      "    {\n",
      "      \"duration\": 649, \n",
      "      \"risetime\": 1575824931\n",
      "    }, \n",
      "    {\n",
      "      \"duration\": 590, \n",
      "      \"risetime\": 1575830793\n",
      "    }\n",
      "  ]\n",
      "}\n",
      "\n",
      "{'Server': 'nginx/1.10.3', 'Date': 'Sat, 07 Dec 2019 00:39:35 GMT', 'Content-Type': 'application/json', 'Content-Length': '855', 'Connection': 'keep-alive', 'Via': '1.1 vegur'}\n"
     ]
    }
   ],
   "source": [
    "# Check the API and interpret your results - when will ISS pass over NEW York next ?\n",
    "print(resp.text)\n",
    "print(resp.headers)"
   ]
  },
  {
   "cell_type": "code",
   "execution_count": 48,
   "metadata": {},
   "outputs": [
    {
     "data": {
      "text/plain": [
       "datetime.datetime(2019, 12, 6, 20, 15, 37)"
      ]
     },
     "execution_count": 48,
     "metadata": {},
     "output_type": "execute_result"
    }
   ],
   "source": [
    "import ast\n",
    "import datetime as dt\n",
    "\n",
    "d = ast.literal_eval(resp.text)\n",
    "dt_code = d[\"response\"][0][\"risetime\"]\n",
    "dt_code = dt.datetime.fromtimestamp(dt_code)\n",
    "dt_code"
   ]
  },
  {
   "cell_type": "markdown",
   "metadata": {},
   "source": [
    "According to the unix timecode given by the API, the ISS will be passing over New York next on December 6, 2019 at 6:38 PM. That is actually earlier today, so I'd like to see when the next few are."
   ]
  },
  {
   "cell_type": "code",
   "execution_count": 49,
   "metadata": {},
   "outputs": [
    {
     "name": "stdout",
     "output_type": "stream",
     "text": [
      "2019-12-06 20:15:37\n",
      "2019-12-07 11:21:10\n",
      "2019-12-07 12:57:25\n",
      "2019-12-07 14:35:24\n",
      "2019-12-07 16:13:12\n",
      "2019-12-07 17:50:04\n",
      "2019-12-07 19:26:54\n",
      "2019-12-08 10:33:22\n",
      "2019-12-08 12:08:51\n",
      "2019-12-08 13:46:33\n"
     ]
    }
   ],
   "source": [
    "codes = []\n",
    "for idx, iss_pass in enumerate(d[\"response\"]):\n",
    "    code = iss_pass[\"risetime\"]\n",
    "    code = dt.datetime.fromtimestamp(code)\n",
    "    codes.append(code)\n",
    "for code in codes:\n",
    "    print(code)"
   ]
  },
  {
   "cell_type": "markdown",
   "metadata": {},
   "source": [
    "### Finding the number of people in space\n",
    "\n",
    "OpenNotify has one more API endpoint, `/astros.json`. It tells you how many people are currently in space. The format of the responses can be studied [HERE](http://open-notify.org/Open-Notify-API/People-In-Space/).\n",
    "\n",
    "Read the above documentation and perform the following tasks:\n",
    "\n",
    "* Get the response from astros.json endpoint\n",
    "* Count how many people are currently in space\n",
    "* List the names of people currently in space."
   ]
  },
  {
   "cell_type": "code",
   "execution_count": 50,
   "metadata": {},
   "outputs": [
    {
     "name": "stdout",
     "output_type": "stream",
     "text": [
      "Status OK\n"
     ]
    }
   ],
   "source": [
    "# Get response and check status:\n",
    "resp = requests.get(\"http://api.open-notify.org/astros.json\")\n",
    "if resp.status_code == requests.codes.ok:\n",
    "    print(\"Status OK\")\n",
    "else:\n",
    "    print(\"Didn't Work\")"
   ]
  },
  {
   "cell_type": "code",
   "execution_count": 51,
   "metadata": {},
   "outputs": [
    {
     "name": "stdout",
     "output_type": "stream",
     "text": [
      "{\"people\": [{\"name\": \"Christina Koch\", \"craft\": \"ISS\"}, {\"name\": \"Alexander Skvortsov\", \"craft\": \"ISS\"}, {\"name\": \"Luca Parmitano\", \"craft\": \"ISS\"}, {\"name\": \"Andrew Morgan\", \"craft\": \"ISS\"}, {\"name\": \"Oleg Skripochka\", \"craft\": \"ISS\"}, {\"name\": \"Jessica Meir\", \"craft\": \"ISS\"}], \"number\": 6, \"message\": \"success\"}\n"
     ]
    }
   ],
   "source": [
    "# Interpret the Results - How many people are in space and what are their names \n",
    "print(resp.text)"
   ]
  },
  {
   "cell_type": "code",
   "execution_count": 64,
   "metadata": {},
   "outputs": [
    {
     "name": "stdout",
     "output_type": "stream",
     "text": [
      "There are 6 astronauts in space.\n",
      "Their names are:\n",
      "Christina Koch\n",
      "Alexander Skvortsov\n",
      "Luca Parmitano\n",
      "Andrew Morgan\n",
      "Oleg Skripochka\n",
      "Jessica Meir\n"
     ]
    }
   ],
   "source": [
    "# Cleaning up the response:\n",
    "names = []\n",
    "d = ast.literal_eval(resp.text)\n",
    "for astro in d[\"people\"]:\n",
    "    names.append(astro[\"name\"])\n",
    "print(f'There are {d[\"number\"]} astronauts in space.\\nTheir names are:')\n",
    "for name in names:\n",
    "      print(name)"
   ]
  },
  {
   "cell_type": "markdown",
   "metadata": {},
   "source": [
    "## Summary \n",
    "\n",
    "In this lesson, we saw how we can use request and response methods to query an Open API. We also saw how to look at the contents returned with the API calls and how to parse them. Next, we'll look at connecting to APIs which are not OPEN, i.e. we would need to pass in some authentication information and filter the results. "
   ]
  }
 ],
 "metadata": {
  "kernelspec": {
   "display_name": "Python 3",
   "language": "python",
   "name": "python3"
  },
  "language_info": {
   "codemirror_mode": {
    "name": "ipython",
    "version": 3
   },
   "file_extension": ".py",
   "mimetype": "text/x-python",
   "name": "python",
   "nbconvert_exporter": "python",
   "pygments_lexer": "ipython3",
   "version": "3.7.3"
  },
  "toc": {
   "base_numbering": 1,
   "nav_menu": {},
   "number_sections": true,
   "sideBar": true,
   "skip_h1_title": false,
   "title_cell": "Table of Contents",
   "title_sidebar": "Contents",
   "toc_cell": false,
   "toc_position": {},
   "toc_section_display": true,
   "toc_window_display": false
  }
 },
 "nbformat": 4,
 "nbformat_minor": 2
}
